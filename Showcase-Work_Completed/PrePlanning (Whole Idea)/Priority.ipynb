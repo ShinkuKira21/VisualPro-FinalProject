{
 "cells": [
  {
   "cell_type": "markdown",
   "metadata": {},
   "source": [
    "<h1>Priority Order</h1>\n",
    "\n",
    "<p>Top Priority to Bottom Priority</p>\n",
    "<ol>\n",
    "    <li>If user closes program, then dispose any open libraries.</li>\n",
    "    <li>Call Decoder Configuration Library.</li>\n",
    "    <li>Update Available Languages Based on Return.</li>\n",
    "    <li>Call LanguageCompiler Library on Save (and only on save).</li>\n",
    "    <li>After Save Dispose of Configuration and LanguageCompiler Class</li>\n",
    "</ol>"
   ]
  },
  {
   "cell_type": "markdown",
   "metadata": {},
   "source": [
    "<h1>Performance Order</h1>\n",
    "\n",
    "<p>Performance Issues (Worst to Good)</p>\n",
    "<ul>\n",
    "    <li>Running the libraries all at once (Worst Performance).</li>\n",
    "    <li><b>(id=2)</b> Decoder Configuration Library (Moderate Performance)</li>\n",
    "    <li><b>(id=4)</b> Calling LanguageCompiler Libraryu (Slow Performance)</li>\n",
    "</ul>"
   ]
  },
  {
   "cell_type": "markdown",
   "metadata": {},
   "source": [
    "<h1>Checklist</h1>\n",
    "\n",
    "<div id=\"checklist\">\n",
    "    <input type=\"checkbox\"/><label>Startup DLL</label><br/>\n",
    "    <input type=\"checkbox\"/><label>Launch XML Configuration</label><br/>\n",
    "    <input type=\"checkbox\"/><label>Retrieve Languages</label>\n",
    "</div>"
   ]
  },
  {
   "cell_type": "markdown",
   "metadata": {},
   "source": []
  }
 ],
 "metadata": {
  "interpreter": {
   "hash": "57baa5815c940fdaff4d14510622de9616cae602444507ba5d0b6727c008cbd6"
  },
  "kernelspec": {
   "display_name": "Python 3",
   "language": "python",
   "name": "python3"
  },
  "language_info": {
   "codemirror_mode": {
    "name": "ipython",
    "version": 3
   },
   "file_extension": ".py",
   "mimetype": "text/x-python",
   "name": "python",
   "nbconvert_exporter": "python",
   "pygments_lexer": "ipython3",
   "version": "3.7.9"
  },
  "orig_nbformat": 4
 },
 "nbformat": 4,
 "nbformat_minor": 2
}
