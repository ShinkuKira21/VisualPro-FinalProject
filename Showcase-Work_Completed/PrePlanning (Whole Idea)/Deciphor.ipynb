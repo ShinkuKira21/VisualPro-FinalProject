{
 "cells": [
  {
   "cell_type": "markdown",
   "metadata": {},
   "source": [
    "<h1>To-Do</h1>\n",
    "\n",
    "<ol>\n",
    "    <li>Find commons between languages and create XML languages.</li>\n",
    "    <li>Create C++ DLL Library to deciphor and use lists to generate code. </li>\n",
    "</ol>"
   ]
  },
  {
   "cell_type": "code",
   "execution_count": 1,
   "metadata": {},
   "outputs": [],
   "source": [
    "def JoinString(character, string, toAdd) :\n",
    "    partOne = string.split(character + ':')\n",
    "    stringToAdd = partOne[0] + character + ':' + toAdd + partOne[1]\n",
    "    return stringToAdd\n",
    "\n",
    "def Deciphor(selection, string) :\n",
    "    i = string.find(selection) + 2\n",
    "    data = \"\"\n",
    "    for j in range(i, string.find(\";\", i)) :\n",
    "        data += string[j]\n",
    "        \n",
    "    return data"
   ]
  },
  {
   "cell_type": "code",
   "execution_count": 6,
   "metadata": {},
   "outputs": [],
   "source": [
    "def GenerateCCode(fList, aList, vList) :\n",
    "    code = \"#include <iostream>\\n#include <string>\"\n",
    "\n",
    "    code += \"\\n\\n\" + Deciphor(\"D\", fList) + \" \" + Deciphor(\"N\", fList)\n",
    "\n",
    "    code += \"(\" + Deciphor(\"D\", aList) + \" \" + Deciphor(\"N\", aList) + \")\"\n",
    "\n",
    "    code += \"\\n{\\n   \" + Deciphor(\"D\", vList) + \" \" + Deciphor(\"N\", vList) + \";\"\n",
    "    \n",
    "    code += \"\\n\\n   return 0;\\n}\"\n",
    "\n",
    "    code += \"\\n\\nint main(int argc, char argv)\\n{\\n\\n   return 0;\\n}\"\n",
    "\n",
    "    print(code)"
   ]
  },
  {
   "cell_type": "code",
   "execution_count": 7,
   "metadata": {},
   "outputs": [
    {
     "name": "stdout",
     "output_type": "stream",
     "text": [
      "F-1 M:;D:int;N:GetDate;\n",
      "A-1-P-F-1 M:;D:string;N:unixTS;\n",
      "V-1-P-F-1 M:;D:bool;N:bStandardDateFormat; \n",
      "\n",
      "\n",
      "#include <iostream>\n",
      "#include <string>\n",
      "\n",
      "int GetDate(string unixTS)\n",
      "{\n",
      "   bool bStandardDateFormat;\n",
      "\n",
      "   return 0;\n",
      "}\n",
      "\n",
      "int main(int argc, char argv)\n",
      "{\n",
      "\n",
      "   return 0;\n",
      "}\n"
     ]
    }
   ],
   "source": [
    "fList = \"F-1 M:;D:;N:;\"; aList = \"A-1-P-F-1 M:;D:;N:;\"\n",
    "vList = \"V-1-P-F-1 M:;D:;N:;\"\n",
    "\n",
    "member = \"\"; dt = \"int\"; name = \"GetDate\"\n",
    "\n",
    "fList = JoinString('M', fList, member)\n",
    "fList = JoinString(\"D\", fList, dt)\n",
    "fList = JoinString(\"N\", fList, name)\n",
    "print(fList)\n",
    "\n",
    "member = \"\"; dt = \"string\"; name = \"unixTS\"\n",
    "\n",
    "aList = JoinString(\"M\", aList, member)\n",
    "aList = JoinString(\"D\", aList, dt)\n",
    "aList = JoinString(\"N\", aList, name)\n",
    "print(aList)\n",
    "\n",
    "member = \"\"; dt = \"bool\"; name = \"bStandardDateFormat\"\n",
    "\n",
    "vList = JoinString(\"M\", vList, member)\n",
    "vList = JoinString(\"D\", vList, dt)\n",
    "vList = JoinString(\"N\", vList, name)\n",
    "print(vList, \"\\n\\n\")\n",
    "\n",
    "GenerateCCode(fList, aList, vList)"
   ]
  }
 ],
 "metadata": {
  "interpreter": {
   "hash": "31f2aee4e71d21fbe5cf8b01ff0e069b9275f58929596ceb00d14d90e3e16cd6"
  },
  "kernelspec": {
   "display_name": "Python 3.7.3 64-bit",
   "name": "python3"
  },
  "language_info": {
   "name": "python",
   "version": ""
  },
  "orig_nbformat": 4
 },
 "nbformat": 4,
 "nbformat_minor": 2
}